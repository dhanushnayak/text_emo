{
  "nbformat": 4,
  "nbformat_minor": 0,
  "metadata": {
    "colab": {
      "name": "TextClassificationEmotion.ipynb",
      "provenance": [],
      "collapsed_sections": [],
      "mount_file_id": "1bJsbX9NkW6_ahyAgcJcytt0uVjbC8mJF",
      "authorship_tag": "ABX9TyPp+C7nHlSYZC9CwROFjC1n",
      "include_colab_link": true
    },
    "kernelspec": {
      "name": "python3",
      "display_name": "Python 3"
    },
    "language_info": {
      "name": "python"
    },
    "accelerator": "GPU"
  },
  "cells": [
    {
      "cell_type": "markdown",
      "metadata": {
        "id": "view-in-github",
        "colab_type": "text"
      },
      "source": [
        "<a href=\"https://colab.research.google.com/github/dhanushnayak/text_emo/blob/main/TextClassificationEmotion.ipynb\" target=\"_parent\"><img src=\"https://colab.research.google.com/assets/colab-badge.svg\" alt=\"Open In Colab\"/></a>"
      ]
    },
    {
      "cell_type": "code",
      "metadata": {
        "colab": {
          "base_uri": "https://localhost:8080/"
        },
        "id": "6CcxeGpBnhMf",
        "outputId": "ec8cb480-38dd-4d4c-a7ce-c0c5490130e8"
      },
      "source": [
        "#import libaries\n",
        "!pip install neattext\n",
        "import pandas as pd\n",
        "import numpy as np\n",
        "from collections import Counter\n",
        "import matplotlib.pyplot as plt\n",
        "import seaborn as sns\n",
        "import neattext.functions as nt \n",
        "plt.style.use(\"ggplot\")\n",
        "plt.rcParams[\"figure.figsize\"] = (16,5)\n",
        "import warnings\n",
        "warnings.filterwarnings('ignore')"
      ],
      "execution_count": null,
      "outputs": [
        {
          "output_type": "stream",
          "name": "stdout",
          "text": [
            "Collecting neattext\n",
            "  Downloading neattext-0.1.2-py3-none-any.whl (114 kB)\n",
            "\u001b[?25l\r\u001b[K     |██▉                             | 10 kB 20.7 MB/s eta 0:00:01\r\u001b[K     |█████▊                          | 20 kB 24.6 MB/s eta 0:00:01\r\u001b[K     |████████▋                       | 30 kB 27.5 MB/s eta 0:00:01\r\u001b[K     |███████████▌                    | 40 kB 28.0 MB/s eta 0:00:01\r\u001b[K     |██████████████▍                 | 51 kB 30.6 MB/s eta 0:00:01\r\u001b[K     |█████████████████▏              | 61 kB 31.2 MB/s eta 0:00:01\r\u001b[K     |████████████████████            | 71 kB 32.5 MB/s eta 0:00:01\r\u001b[K     |███████████████████████         | 81 kB 33.8 MB/s eta 0:00:01\r\u001b[K     |█████████████████████████▉      | 92 kB 35.2 MB/s eta 0:00:01\r\u001b[K     |████████████████████████████▊   | 102 kB 37.4 MB/s eta 0:00:01\r\u001b[K     |███████████████████████████████▋| 112 kB 37.4 MB/s eta 0:00:01\r\u001b[K     |████████████████████████████████| 114 kB 37.4 MB/s \n",
            "\u001b[?25hInstalling collected packages: neattext\n",
            "Successfully installed neattext-0.1.2\n"
          ]
        }
      ]
    },
    {
      "cell_type": "code",
      "metadata": {
        "id": "q0GGCIKvntTR"
      },
      "source": [
        "#reading_csv\n",
        "df = pd.read_csv(\"https://raw.githubusercontent.com/Jcharis/end2end-nlp-project/main/notebooks/data/emotion_dataset_raw.csv\")"
      ],
      "execution_count": null,
      "outputs": []
    },
    {
      "cell_type": "code",
      "metadata": {
        "id": "HPCIz8MAnx6t"
      },
      "source": [
        "df['clean_text']=df[\"Text\"].apply(nt.remove_stopwords).apply(nt.remove_userhandles).apply(nt.remove_punctuations)"
      ],
      "execution_count": null,
      "outputs": []
    },
    {
      "cell_type": "code",
      "metadata": {
        "colab": {
          "base_uri": "https://localhost:8080/"
        },
        "id": "vW0qqpkrnySa",
        "outputId": "18cb4ffe-b44a-419c-d180-ad4d312af394"
      },
      "source": [
        "%tensorflow_version 2.x\n",
        "import tensorflow as tf\n",
        "device_name = tf.test.gpu_device_name()\n",
        "if device_name != '/device:GPU:0':\n",
        "  raise SystemError('GPU device not found')\n",
        "print('Found GPU at: {}'.format(device_name))"
      ],
      "execution_count": null,
      "outputs": [
        {
          "output_type": "stream",
          "name": "stdout",
          "text": [
            "Found GPU at: /device:GPU:0\n"
          ]
        }
      ]
    },
    {
      "cell_type": "code",
      "metadata": {
        "id": "FDzGZO8En0Lt"
      },
      "source": [
        "from tensorflow.keras.models import  Sequential\n",
        "from tensorflow.keras.preprocessing.text import Tokenizer\n",
        "from tensorflow.keras.utils import to_categorical\n",
        "from tensorflow.keras.layers import Dense,LSTM ,Dropout, Embedding,Bidirectional,GlobalMaxPooling1D\n",
        "from tensorflow.keras.preprocessing.sequence import pad_sequences\n",
        "from sklearn.model_selection import train_test_split\n",
        "from sklearn.preprocessing import OneHotEncoder,LabelEncoder\n",
        "import tensorflow as tf"
      ],
      "execution_count": null,
      "outputs": []
    },
    {
      "cell_type": "code",
      "metadata": {
        "id": "nrX-nAEwn5gE"
      },
      "source": [
        "tok=Tokenizer()\n",
        "tok.fit_on_texts(df['clean_text'])\n",
        "seq = tok.texts_to_sequences(df['clean_text'])\n",
        "y = df['Emotion']\n",
        "onehot = OneHotEncoder().fit(y.values.reshape(-1,1))\n",
        "yone1 = onehot.transform(y.values.reshape(-1,1))\n",
        "yone1=yone1.toarray()\n",
        "post_pad = pad_sequences(seq, padding='pre',maxlen=256)\n",
        "voc_size = len(tok.word_index) + 1 # as it was started from 0\n",
        "x_train1,x_test1,y_train1,y_test1 = train_test_split(post_pad,yone1,test_size=0.3,random_state=42,shuffle=True)"
      ],
      "execution_count": null,
      "outputs": []
    },
    {
      "cell_type": "code",
      "metadata": {
        "colab": {
          "base_uri": "https://localhost:8080/"
        },
        "id": "Tx3mtymyn783",
        "outputId": "394b83e0-25d8-4c98-b32a-7feb15a2f239"
      },
      "source": [
        "del model\n",
        "model = Sequential()\n",
        "#model.add(Embedding(inp  , op , inp length))\n",
        "model.add(Embedding(voc_size , 1000 , input_length = 256,))\n",
        "model.add(Bidirectional(LSTM(100 , return_sequences = True)))\n",
        "model.add(Dropout(0.4))\n",
        "model.add(Bidirectional(LSTM(50)))\n",
        "model.add(Dense(100 , activation= 'relu'))\n",
        "model.add(Dense(50 , activation= 'relu'))\n",
        "model.add(Dense(8 , activation = 'softmax'))\n",
        "model.summary()"
      ],
      "execution_count": null,
      "outputs": [
        {
          "output_type": "stream",
          "name": "stdout",
          "text": [
            "Model: \"sequential_5\"\n",
            "_________________________________________________________________\n",
            " Layer (type)                Output Shape              Param #   \n",
            "=================================================================\n",
            " embedding_5 (Embedding)     (None, 256, 1000)         35291000  \n",
            "                                                                 \n",
            " bidirectional_10 (Bidirecti  (None, 256, 200)         880800    \n",
            " onal)                                                           \n",
            "                                                                 \n",
            " dropout_6 (Dropout)         (None, 256, 200)          0         \n",
            "                                                                 \n",
            " bidirectional_11 (Bidirecti  (None, 100)              100400    \n",
            " onal)                                                           \n",
            "                                                                 \n",
            " dense_15 (Dense)            (None, 100)               10100     \n",
            "                                                                 \n",
            " dense_16 (Dense)            (None, 50)                5050      \n",
            "                                                                 \n",
            " dense_17 (Dense)            (None, 8)                 408       \n",
            "                                                                 \n",
            "=================================================================\n",
            "Total params: 36,287,758\n",
            "Trainable params: 36,287,758\n",
            "Non-trainable params: 0\n",
            "_________________________________________________________________\n"
          ]
        }
      ]
    },
    {
      "cell_type": "code",
      "metadata": {
        "colab": {
          "base_uri": "https://localhost:8080/"
        },
        "id": "8Id_gBRioZrX",
        "outputId": "e326b9ca-2b0c-47b4-f5e3-8f9ac3a248c9"
      },
      "source": [
        "!pip install livelossplot==0.5.0\n",
        "import livelossplot\n",
        "#!pip install keras==2.3.1\n",
        "opt = tf.optimizers.schedules.ExponentialDecay(initial_learning_rate=0.001,decay_rate=0.98,decay_steps=5)\n",
        "adam = tf.optimizers.Adam(learning_rate=opt)\n",
        "sgd = tf.optimizers.SGD(learning_rate=opt)\n",
        "#model.compile(loss = 'categorical_crossentropy\n",
        "\n",
        "model.compile(loss = 'categorical_crossentropy' , optimizer = adam ,metrics = ['accuracy'])"
      ],
      "execution_count": null,
      "outputs": [
        {
          "output_type": "stream",
          "name": "stdout",
          "text": [
            "Requirement already satisfied: livelossplot==0.5.0 in /usr/local/lib/python3.7/dist-packages (0.5.0)\n",
            "Requirement already satisfied: ipython in /usr/local/lib/python3.7/dist-packages (from livelossplot==0.5.0) (5.5.0)\n",
            "Requirement already satisfied: matplotlib in /usr/local/lib/python3.7/dist-packages (from livelossplot==0.5.0) (3.2.2)\n",
            "Requirement already satisfied: prompt-toolkit<2.0.0,>=1.0.4 in /usr/local/lib/python3.7/dist-packages (from ipython->livelossplot==0.5.0) (1.0.18)\n",
            "Requirement already satisfied: pexpect in /usr/local/lib/python3.7/dist-packages (from ipython->livelossplot==0.5.0) (4.8.0)\n",
            "Requirement already satisfied: setuptools>=18.5 in /usr/local/lib/python3.7/dist-packages (from ipython->livelossplot==0.5.0) (57.4.0)\n",
            "Requirement already satisfied: decorator in /usr/local/lib/python3.7/dist-packages (from ipython->livelossplot==0.5.0) (4.4.2)\n",
            "Requirement already satisfied: traitlets>=4.2 in /usr/local/lib/python3.7/dist-packages (from ipython->livelossplot==0.5.0) (5.1.1)\n",
            "Requirement already satisfied: simplegeneric>0.8 in /usr/local/lib/python3.7/dist-packages (from ipython->livelossplot==0.5.0) (0.8.1)\n",
            "Requirement already satisfied: pickleshare in /usr/local/lib/python3.7/dist-packages (from ipython->livelossplot==0.5.0) (0.7.5)\n",
            "Requirement already satisfied: pygments in /usr/local/lib/python3.7/dist-packages (from ipython->livelossplot==0.5.0) (2.6.1)\n",
            "Requirement already satisfied: six>=1.9.0 in /usr/local/lib/python3.7/dist-packages (from prompt-toolkit<2.0.0,>=1.0.4->ipython->livelossplot==0.5.0) (1.15.0)\n",
            "Requirement already satisfied: wcwidth in /usr/local/lib/python3.7/dist-packages (from prompt-toolkit<2.0.0,>=1.0.4->ipython->livelossplot==0.5.0) (0.2.5)\n",
            "Requirement already satisfied: python-dateutil>=2.1 in /usr/local/lib/python3.7/dist-packages (from matplotlib->livelossplot==0.5.0) (2.8.2)\n",
            "Requirement already satisfied: pyparsing!=2.0.4,!=2.1.2,!=2.1.6,>=2.0.1 in /usr/local/lib/python3.7/dist-packages (from matplotlib->livelossplot==0.5.0) (2.4.7)\n",
            "Requirement already satisfied: cycler>=0.10 in /usr/local/lib/python3.7/dist-packages (from matplotlib->livelossplot==0.5.0) (0.11.0)\n",
            "Requirement already satisfied: numpy>=1.11 in /usr/local/lib/python3.7/dist-packages (from matplotlib->livelossplot==0.5.0) (1.19.5)\n",
            "Requirement already satisfied: kiwisolver>=1.0.1 in /usr/local/lib/python3.7/dist-packages (from matplotlib->livelossplot==0.5.0) (1.3.2)\n",
            "Requirement already satisfied: ptyprocess>=0.5 in /usr/local/lib/python3.7/dist-packages (from pexpect->ipython->livelossplot==0.5.0) (0.7.0)\n"
          ]
        }
      ]
    },
    {
      "cell_type": "code",
      "metadata": {
        "id": "0_z3JCfIoerd"
      },
      "source": [
        "from tensorflow.keras.callbacks import ModelCheckpoint, ReduceLROnPlateau,EarlyStopping\n",
        "\n",
        "#from tensorflow.keras.callbacks import EarlyStopping,ModelCheckpoint\n",
        "\n",
        "from livelossplot.inputs.tf_keras import PlotLossesCallback\n",
        "\n",
        "checkpoint = ModelCheckpoint(\"model_weights_dhanush_text_emotion_256v1.h5\",monitor=\"val_accuracy\",save_weights_only=True,mode=\"max\",verbose=1)\n",
        "#reduce_lr = ReduceLROnPlateau(monitor='var_loss',factor=0.1,patience=2,min_lr=0.00001,model='auto')\n",
        "early_stop = EarlyStopping(monitor=\"val_accuracy\",patience=10,mode='max',min_delta=0)\n",
        "callbacks=[PlotLossesCallback(),checkpoint,early_stop]\n"
      ],
      "execution_count": null,
      "outputs": []
    },
    {
      "cell_type": "code",
      "metadata": {
        "colab": {
          "base_uri": "https://localhost:8080/",
          "height": 479
        },
        "id": "uU-CVmUHof2O",
        "outputId": "98e8f6c5-9574-4acd-cc11-6aacfe395063"
      },
      "source": [
        "\n",
        "history = model.fit(post_pad,yone1,validation_split=0.3,batch_size = 512 , epochs = 500 ,callbacks=callbacks) \n"
      ],
      "execution_count": null,
      "outputs": [
        {
          "output_type": "display_data",
          "data": {
            "image/png": "[encoded data removed]",
            "text/plain": [
              "<Figure size 864x576 with 2 Axes>"
            ]
          },
          "metadata": {}
        },
        {
          "output_type": "stream",
          "name": "stdout",
          "text": [
            "accuracy\n",
            "\ttraining         \t (min:    0.156, max:    0.971, cur:    0.970)\n",
            "\tvalidation       \t (min:    0.155, max:    0.606, cur:    0.590)\n",
            "Loss\n",
            "\ttraining         \t (min:    0.114, max:    2.014, cur:    0.114)\n",
            "\tvalidation       \t (min:    1.187, max:    2.176, cur:    2.176)\n",
            "\n",
            "Epoch 00013: saving model to model_weights_dhanush_text_emotion_256v1.h5\n",
            "48/48 [==============================] - 43s 894ms/step - loss: 0.1136 - accuracy: 0.9697 - val_loss: 2.1759 - val_accuracy: 0.5899\n"
          ]
        }
      ]
    },
    {
      "cell_type": "code",
      "metadata": {
        "colab": {
          "base_uri": "https://localhost:8080/"
        },
        "id": "4UcrWi4NoiX1",
        "outputId": "2a3661b5-67cb-4421-98c9-b837c476fb01"
      },
      "source": [
        "def predict(text):\n",
        "  from neattext import TextExtractor\n",
        "  sentx1 = TextExtractor(text=text)\n",
        "  text1=sentx1.remove_puncts().remove_stopwords().remove_userhandles().text\n",
        "  intok=tok.texts_to_sequences([text1])\n",
        "  seqin = pad_sequences(intok, padding='pre',maxlen=256)\n",
        "  a= model.predict([seqin])\n",
        "  return onehot.inverse_transform(a)\n",
        "text = input()\n",
        "predict(text)"
      ],
      "execution_count": null,
      "outputs": [
        {
          "name": "stdout",
          "output_type": "stream",
          "text": [
            "I am trying to be happy for her\n"
          ]
        },
        {
          "output_type": "execute_result",
          "data": {
            "text/plain": [
              "array([['joy']], dtype=object)"
            ]
          },
          "metadata": {},
          "execution_count": 53
        }
      ]
    },
    {
      "cell_type": "code",
      "metadata": {
        "id": "KXF6PkDsom5G"
      },
      "source": [
        "import pickle\n",
        "\n",
        "# saving\n",
        "with open('tokenizer_text_emotion.pkl', 'wb') as handle:\n",
        "    pickle.dump(tok, handle, protocol=pickle.HIGHEST_PROTOCOL)"
      ],
      "execution_count": null,
      "outputs": []
    },
    {
      "cell_type": "code",
      "metadata": {
        "colab": {
          "base_uri": "https://localhost:8080/"
        },
        "id": "h0zzcSBHonzs",
        "outputId": "76fabf2e-87da-409e-a5d0-0f4a117fdea5"
      },
      "source": [
        "model_json = model.to_json()\n",
        "with open(\"Keras_model_for_text_emotion.json\", \"w\") as json_file:\n",
        "    json_file.write(model_json)\n",
        "# serialize weights to HDF5\n",
        "model.save_weights(\"Keras_model_for_text_emotion_weights.h5\")\n",
        "print(\"Saved model to disk\")"
      ],
      "execution_count": null,
      "outputs": [
        {
          "output_type": "stream",
          "name": "stdout",
          "text": [
            "Saved model to disk\n"
          ]
        }
      ]
    },
    {
      "cell_type": "code",
      "metadata": {
        "id": "a2NTmsVRoqbZ"
      },
      "source": [
        "import joblib\n",
        "#joblib.dump(onehot, 'onehot_encoder_text_emotion.pkl')"
      ],
      "execution_count": null,
      "outputs": []
    },
    {
      "cell_type": "code",
      "metadata": {
        "id": "wrBgfg1z7A_w"
      },
      "source": [
        "from keras.models import model_from_json"
      ],
      "execution_count": null,
      "outputs": []
    },
    {
      "cell_type": "code",
      "metadata": {
        "colab": {
          "base_uri": "https://localhost:8080/",
          "height": 229
        },
        "id": "GufnA7Hgos9s",
        "outputId": "db8e3064-3613-4685-9968-873d9ae89583"
      },
      "source": [
        "json_file = open('Keras_model_for_text_emotion.json', 'r')\n",
        "\n",
        "loaded_model_json = json_file.read()\n",
        "json_file.close()\n",
        "loaded_model = model_from_json(loaded_model_json)\n",
        "\n",
        "# load weights into new model\n",
        "loaded_model.load_weights(\"Keras_model_for_text_emotion_weights.h5\")\n",
        "print(\"Loaded model from disk\")\n"
      ],
      "execution_count": null,
      "outputs": [
        {
          "output_type": "error",
          "ename": "FileNotFoundError",
          "evalue": "ignored",
          "traceback": [
            "\u001b[0;31m---------------------------------------------------------------------------\u001b[0m",
            "\u001b[0;31mFileNotFoundError\u001b[0m                         Traceback (most recent call last)",
            "\u001b[0;32m<ipython-input-11-d82cba95e69a>\u001b[0m in \u001b[0;36m<module>\u001b[0;34m()\u001b[0m\n\u001b[0;32m----> 1\u001b[0;31m \u001b[0mjson_file\u001b[0m \u001b[0;34m=\u001b[0m \u001b[0mopen\u001b[0m\u001b[0;34m(\u001b[0m\u001b[0;34m'Keras_model_for_text_emotion.json'\u001b[0m\u001b[0;34m,\u001b[0m \u001b[0;34m'r'\u001b[0m\u001b[0;34m)\u001b[0m\u001b[0;34m\u001b[0m\u001b[0;34m\u001b[0m\u001b[0m\n\u001b[0m\u001b[1;32m      2\u001b[0m \u001b[0;34m\u001b[0m\u001b[0m\n\u001b[1;32m      3\u001b[0m \u001b[0mloaded_model_json\u001b[0m \u001b[0;34m=\u001b[0m \u001b[0mjson_file\u001b[0m\u001b[0;34m.\u001b[0m\u001b[0mread\u001b[0m\u001b[0;34m(\u001b[0m\u001b[0;34m)\u001b[0m\u001b[0;34m\u001b[0m\u001b[0;34m\u001b[0m\u001b[0m\n\u001b[1;32m      4\u001b[0m \u001b[0mjson_file\u001b[0m\u001b[0;34m.\u001b[0m\u001b[0mclose\u001b[0m\u001b[0;34m(\u001b[0m\u001b[0;34m)\u001b[0m\u001b[0;34m\u001b[0m\u001b[0;34m\u001b[0m\u001b[0m\n\u001b[1;32m      5\u001b[0m \u001b[0mloaded_model\u001b[0m \u001b[0;34m=\u001b[0m \u001b[0mmodel_from_json\u001b[0m\u001b[0;34m(\u001b[0m\u001b[0mloaded_model_json\u001b[0m\u001b[0;34m)\u001b[0m\u001b[0;34m\u001b[0m\u001b[0;34m\u001b[0m\u001b[0m\n",
            "\u001b[0;31mFileNotFoundError\u001b[0m: [Errno 2] No such file or directory: 'Keras_model_for_text_emotion.json'"
          ]
        }
      ]
    },
    {
      "cell_type": "code",
      "metadata": {
        "colab": {
          "base_uri": "https://localhost:8080/",
          "height": 178
        },
        "id": "zHETPyeg7gTW",
        "outputId": "368c533c-10b2-41a6-cc9d-5d8d1531c297"
      },
      "source": [
        "token_loaded= joblib.load(\"tokenizer_text_emotion.pkl\")\n",
        "onehot_loaded = joblib.load(\"onehot_encoder_text_emotion.pkl\")"
      ],
      "execution_count": null,
      "outputs": [
        {
          "output_type": "error",
          "ename": "NameError",
          "evalue": "ignored",
          "traceback": [
            "\u001b[0;31m---------------------------------------------------------------------------\u001b[0m",
            "\u001b[0;31mNameError\u001b[0m                                 Traceback (most recent call last)",
            "\u001b[0;32m<ipython-input-10-7327bd8ef70d>\u001b[0m in \u001b[0;36m<module>\u001b[0;34m()\u001b[0m\n\u001b[0;32m----> 1\u001b[0;31m \u001b[0mtoken_loaded\u001b[0m\u001b[0;34m=\u001b[0m \u001b[0mjoblib\u001b[0m\u001b[0;34m.\u001b[0m\u001b[0mload\u001b[0m\u001b[0;34m(\u001b[0m\u001b[0;34m\"tokenizer_text_emotion.pkl\"\u001b[0m\u001b[0;34m)\u001b[0m\u001b[0;34m\u001b[0m\u001b[0;34m\u001b[0m\u001b[0m\n\u001b[0m\u001b[1;32m      2\u001b[0m \u001b[0monehot_loaded\u001b[0m \u001b[0;34m=\u001b[0m \u001b[0mjoblib\u001b[0m\u001b[0;34m.\u001b[0m\u001b[0mload\u001b[0m\u001b[0;34m(\u001b[0m\u001b[0;34m\"onehot_encoder_text_emotion.pkl\"\u001b[0m\u001b[0;34m)\u001b[0m\u001b[0;34m\u001b[0m\u001b[0;34m\u001b[0m\u001b[0m\n",
            "\u001b[0;31mNameError\u001b[0m: name 'joblib' is not defined"
          ]
        }
      ]
    },
    {
      "cell_type": "code",
      "metadata": {
        "id": "Yvj3OioC8PYF"
      },
      "source": [
        "def predict_load(text):\n",
        "  from neattext import TextExtractor\n",
        "  sentx1 = TextExtractor(text=text)\n",
        "  text1=sentx1.remove_puncts().remove_stopwords().remove_userhandles().text\n",
        "  intok=token_loaded.texts_to_sequences([text1])\n",
        "  seqin = pad_sequences(intok, padding='pre',maxlen=256)\n",
        "  a= loaded_model.predict([seqin])\n",
        "  return onehot_loaded.inverse_transform(a)"
      ],
      "execution_count": null,
      "outputs": []
    },
    {
      "cell_type": "code",
      "metadata": {
        "colab": {
          "base_uri": "https://localhost:8080/",
          "height": 313
        },
        "id": "dISshgcl8eXC",
        "outputId": "7297457d-059d-49a0-8047-c13148cdc924"
      },
      "source": [
        "text = input()\n",
        "predict_load(text)"
      ],
      "execution_count": null,
      "outputs": [
        {
          "name": "stdout",
          "output_type": "stream",
          "text": [
            "snslhsl\n"
          ]
        },
        {
          "output_type": "error",
          "ename": "NameError",
          "evalue": "ignored",
          "traceback": [
            "\u001b[0;31m---------------------------------------------------------------------------\u001b[0m",
            "\u001b[0;31mNameError\u001b[0m                                 Traceback (most recent call last)",
            "\u001b[0;32m<ipython-input-9-a9da8c016100>\u001b[0m in \u001b[0;36m<module>\u001b[0;34m()\u001b[0m\n\u001b[1;32m      1\u001b[0m \u001b[0mtext\u001b[0m \u001b[0;34m=\u001b[0m \u001b[0minput\u001b[0m\u001b[0;34m(\u001b[0m\u001b[0;34m)\u001b[0m\u001b[0;34m\u001b[0m\u001b[0;34m\u001b[0m\u001b[0m\n\u001b[0;32m----> 2\u001b[0;31m \u001b[0mpredict_load\u001b[0m\u001b[0;34m(\u001b[0m\u001b[0mtext\u001b[0m\u001b[0;34m)\u001b[0m\u001b[0;34m\u001b[0m\u001b[0;34m\u001b[0m\u001b[0m\n\u001b[0m",
            "\u001b[0;32m<ipython-input-8-f2cb2ad21250>\u001b[0m in \u001b[0;36mpredict_load\u001b[0;34m(text)\u001b[0m\n\u001b[1;32m      3\u001b[0m   \u001b[0msentx1\u001b[0m \u001b[0;34m=\u001b[0m \u001b[0mTextExtractor\u001b[0m\u001b[0;34m(\u001b[0m\u001b[0mtext\u001b[0m\u001b[0;34m=\u001b[0m\u001b[0mtext\u001b[0m\u001b[0;34m)\u001b[0m\u001b[0;34m\u001b[0m\u001b[0;34m\u001b[0m\u001b[0m\n\u001b[1;32m      4\u001b[0m   \u001b[0mtext1\u001b[0m\u001b[0;34m=\u001b[0m\u001b[0msentx1\u001b[0m\u001b[0;34m.\u001b[0m\u001b[0mremove_puncts\u001b[0m\u001b[0;34m(\u001b[0m\u001b[0;34m)\u001b[0m\u001b[0;34m.\u001b[0m\u001b[0mremove_stopwords\u001b[0m\u001b[0;34m(\u001b[0m\u001b[0;34m)\u001b[0m\u001b[0;34m.\u001b[0m\u001b[0mremove_userhandles\u001b[0m\u001b[0;34m(\u001b[0m\u001b[0;34m)\u001b[0m\u001b[0;34m.\u001b[0m\u001b[0mtext\u001b[0m\u001b[0;34m\u001b[0m\u001b[0;34m\u001b[0m\u001b[0m\n\u001b[0;32m----> 5\u001b[0;31m   \u001b[0mintok\u001b[0m\u001b[0;34m=\u001b[0m\u001b[0mtoken_loaded\u001b[0m\u001b[0;34m.\u001b[0m\u001b[0mtexts_to_sequences\u001b[0m\u001b[0;34m(\u001b[0m\u001b[0;34m[\u001b[0m\u001b[0mtext1\u001b[0m\u001b[0;34m]\u001b[0m\u001b[0;34m)\u001b[0m\u001b[0;34m\u001b[0m\u001b[0;34m\u001b[0m\u001b[0m\n\u001b[0m\u001b[1;32m      6\u001b[0m   \u001b[0mseqin\u001b[0m \u001b[0;34m=\u001b[0m \u001b[0mpad_sequences\u001b[0m\u001b[0;34m(\u001b[0m\u001b[0mintok\u001b[0m\u001b[0;34m,\u001b[0m \u001b[0mpadding\u001b[0m\u001b[0;34m=\u001b[0m\u001b[0;34m'pre'\u001b[0m\u001b[0;34m,\u001b[0m\u001b[0mmaxlen\u001b[0m\u001b[0;34m=\u001b[0m\u001b[0;36m256\u001b[0m\u001b[0;34m)\u001b[0m\u001b[0;34m\u001b[0m\u001b[0;34m\u001b[0m\u001b[0m\n\u001b[1;32m      7\u001b[0m   \u001b[0ma\u001b[0m\u001b[0;34m=\u001b[0m \u001b[0mloaded_model\u001b[0m\u001b[0;34m.\u001b[0m\u001b[0mpredict\u001b[0m\u001b[0;34m(\u001b[0m\u001b[0;34m[\u001b[0m\u001b[0mseqin\u001b[0m\u001b[0;34m]\u001b[0m\u001b[0;34m)\u001b[0m\u001b[0;34m\u001b[0m\u001b[0;34m\u001b[0m\u001b[0m\n",
            "\u001b[0;31mNameError\u001b[0m: name 'token_loaded' is not defined"
          ]
        }
      ]
    }
  ]
}